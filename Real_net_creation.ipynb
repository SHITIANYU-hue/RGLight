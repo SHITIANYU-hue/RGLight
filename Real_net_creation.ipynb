{
 "cells": [
  {
   "cell_type": "markdown",
   "metadata": {},
   "source": [
    "# NEW EXP"
   ]
  },
  {
   "cell_type": "code",
   "execution_count": 1,
   "metadata": {},
   "outputs": [
    {
     "data": {
      "text/plain": [
       "0"
      ]
     },
     "execution_count": 1,
     "metadata": {},
     "output_type": "execute_result"
    }
   ],
   "source": [
    "import os\n",
    "os.system(\"netconvert --osm-files Manhattan.osm\" + \" -o \" + \"Manhattan.net2.xml \" + \"--no-turnarounds --junctions.join=true --no-internal-links\" + ' > /dev/null 2>&1')"
   ]
  },
  {
   "cell_type": "markdown",
   "metadata": {},
   "source": [
    "# FOR CURRENT RESULTS"
   ]
  },
  {
   "cell_type": "code",
   "execution_count": 3,
   "metadata": {},
   "outputs": [
    {
     "data": {
      "text/plain": [
       "0"
      ]
     },
     "execution_count": 3,
     "metadata": {},
     "output_type": "execute_result"
    }
   ],
   "source": [
    "import os\n",
    "os.system(\"netconvert --osm-files Manhattan.osm\" + \" -o \" + \"Manhattan.net.xml \" + \"--no-turnarounds --no-internal-links\" + ' > /dev/null 2>&1')"
   ]
  },
  {
   "cell_type": "code",
   "execution_count": null,
   "metadata": {},
   "outputs": [],
   "source": [
    "os.system(\"python randTrips.py -n Manhattan.net.xml --demand-duration 120\"  + \" --lane-demand-variance 2\" +  +\" --min-distance 2\" + \" --fringe-factor 10\" + \" --seed \" + str(int(seed + 1 + (n_workers*num) + (200 if mode == 'test' else (step_counter+1)))) + \" -b 0 -e \"+ str(additional_env_params[\"nb_steps_per_exp\"])+\" --binomial 100 --period \" + str(additional_env_params[\"period\"]) + \" --validate true -o \" + folderaddress + \"/trips.rou.xml -r \" + folderaddress + \"/trips.trips.xml\" + ' > /dev/null 2>&1')"
   ]
  },
  {
   "cell_type": "code",
   "execution_count": null,
   "metadata": {},
   "outputs": [],
   "source": [
    "! netconvert --osm-files 'parisnew.osm' -o 'lasttest.net.xml' --no-turnarounds --no-internal-links"
   ]
  },
  {
   "cell_type": "code",
   "execution_count": 78,
   "metadata": {},
   "outputs": [
    {
     "data": {
      "text/plain": [
       "tensor([0., 0., 0., 0., 0., 0.], device='cuda:0', dtype=torch.float64)"
      ]
     },
     "execution_count": 78,
     "metadata": {},
     "output_type": "execute_result"
    }
   ],
   "source": [
    "import torch\n",
    "torch.zeros(x.size(),dtype=torch.float64, device=\"cuda\")"
   ]
  },
  {
   "cell_type": "code",
   "execution_count": null,
   "metadata": {},
   "outputs": [],
   "source": [
    "!netconvert --osm-files 'parisnew.osm' -o 'lasttest.net.xml'"
   ]
  },
  {
   "cell_type": "code",
   "execution_count": 1,
   "metadata": {},
   "outputs": [],
   "source": [
    "!osmconvert Real_nets/Manhattan.osm.pbf > Manhattan.osm"
   ]
  },
  {
   "cell_type": "code",
   "execution_count": 1,
   "metadata": {},
   "outputs": [],
   "source": [
    "!osmconvert QC.osm.pbf > QC.osm"
   ]
  },
  {
   "cell_type": "code",
   "execution_count": 1,
   "metadata": {},
   "outputs": [],
   "source": [
    "def create_real_net(osm_file, config_file, destination_folder, destination_file):\n",
    "    !rm -r {destination_folder}\n",
    "    ! mkdir {destination_folder} \n",
    "    !netconvert --osm-files {osm_file} -o {destination_folder + destination_file}\n",
    "    ! cp {config_file} {destination_folder}"
   ]
  },
  {
   "cell_type": "code",
   "execution_count": 3,
   "metadata": {},
   "outputs": [
    {
     "name": "stdout",
     "output_type": "stream",
     "text": [
      "Warning: Discarding unknown compound 'cycleway.opposite_lane' in type 'cycleway.opposite_lane|cycleway.shared_lane|highway.residential' (first occurence for edge '38778036').\n",
      "Warning: Discarding unknown compound 'cycleway.shared_lane' in type 'cycleway.opposite_lane|cycleway.shared_lane|highway.residential' (first occurence for edge '38778036').\n",
      "Warning: New value for oneway found: reversible\n",
      "Warning: New value for oneway found: reversible\n",
      "Warning: Discarding unknown compound 'cycleway.lane' in type 'cycleway.lane|highway.secondary' (first occurence for edge '393663205#0').\n",
      "Warning: Discarding unknown compound 'cycleway.track' in type 'cycleway.track|highway.secondary' (first occurence for edge '393785998#0').\n",
      "Warning: Discarding unusable type 'railway.proposed' (first occurence for edge '512998790').\n",
      "Warning: Ignoring restriction relation '4125305' with unknown type.\n",
      "Warning: No way found for reference '414309668' in relation '6177441'\n",
      "Warning: No way found for reference '465417749' in relation '6177441'\n",
      "Warning: Ignoring restriction relation '6177441' with unknown from-way.\n",
      "Warning: Ignoring restriction relation '6177441' with unknown to-way.\n",
      "Warning: No way found for reference '452269046' in relation '6700398'\n",
      "Warning: Ignoring restriction relation '6700398' with unknown to-way.\n",
      "Warning: No way found for reference '453713156' in relation '6714741'\n",
      "Warning: No way found for reference '111771063' in relation '6714741'\n",
      "Warning: Ignoring restriction relation '6714741' with unknown from-way.\n",
      "Warning: Ignoring restriction relation '6714741' with unknown to-way.\n",
      "Warning: No way found for reference '184778988' in relation '6714742'\n",
      "Warning: No way found for reference '453713155' in relation '6714742'\n",
      "Warning: Ignoring restriction relation '6714742' with unknown from-way.\n",
      "Warning: Ignoring restriction relation '6714742' with unknown to-way.\n",
      "Warning: Ignoring restriction relation '6717144' with unknown type.\n",
      "Warning: No way found for reference '107583315' in relation '6717635'\n",
      "Warning: No way found for reference '465417749' in relation '6717635'\n",
      "Warning: Ignoring restriction relation '6717635' with unknown from-way.\n",
      "Warning: Ignoring restriction relation '6717635' with unknown to-way.\n",
      "Warning: No way found for reference '128246066' in relation '6850874'\n",
      "Warning: No way found for reference '128246066' in relation '6850874'\n",
      "Warning: Ignoring restriction relation '6850874' with unknown from-way.\n",
      "Warning: Ignoring restriction relation '6850874' with unknown to-way.\n",
      "Warning: No way found for reference '452096883' in relation '6850877'\n",
      "Warning: No way found for reference '452096883' in relation '6850877'\n",
      "Warning: Ignoring restriction relation '6850877' with unknown from-way.\n",
      "Warning: Ignoring restriction relation '6850877' with unknown to-way.\n",
      "Warning: No way found for reference '463886948' in relation '6850878'\n",
      "Warning: No way found for reference '463886948' in relation '6850878'\n",
      "Warning: Ignoring restriction relation '6850878' with unknown from-way.\n",
      "Warning: Ignoring restriction relation '6850878' with unknown to-way.\n",
      "Warning: No way found for reference '452269046' in relation '6850880'\n",
      "Warning: No way found for reference '452269046' in relation '6850880'\n",
      "Warning: Ignoring restriction relation '6850880' with unknown from-way.\n",
      "Warning: Ignoring restriction relation '6850880' with unknown to-way.\n",
      "Warning: No way found for reference '453940107' in relation '6850881'\n",
      "Warning: No way found for reference '453940107' in relation '6850881'\n",
      "Warning: Ignoring restriction relation '6850881' with unknown from-way.\n",
      "Warning: Ignoring restriction relation '6850881' with unknown to-way.\n",
      "Warning: No way found for reference '453940116' in relation '6850882'\n",
      "Warning: No way found for reference '453940116' in relation '6850882'\n",
      "Warning: Ignoring restriction relation '6850882' with unknown from-way.\n",
      "Warning: Ignoring restriction relation '6850882' with unknown to-way.\n",
      "Warning: No way found for reference '463886946' in relation '6850883'\n",
      "Warning: No way found for reference '463886946' in relation '6850883'\n",
      "Warning: Ignoring restriction relation '6850883' with unknown from-way.\n",
      "Warning: Ignoring restriction relation '6850883' with unknown to-way.\n",
      "Warning: No way found for reference '465183712' in relation '6869619'\n",
      "Warning: No way found for reference '465183712' in relation '6869619'\n",
      "Warning: Ignoring restriction relation '6869619' with unknown from-way.\n",
      "Warning: Ignoring restriction relation '6869619' with unknown to-way.\n",
      "Warning: Ignoring restriction relation '6869630' with unknown type.\n",
      "Warning: No way found for reference '329796365' in relation '6869669'\n",
      "Warning: No way found for reference '329796365' in relation '6869669'\n",
      "Warning: Ignoring restriction relation '6869669' with unknown from-way.\n",
      "Warning: Ignoring restriction relation '6869669' with unknown to-way.\n",
      "Warning: No way found for reference '329065108' in relation '6869670'\n",
      "Warning: No way found for reference '36675284' in relation '6869670'\n",
      "Warning: Ignoring restriction relation '6869670' with unknown from-way.\n",
      "Warning: Ignoring restriction relation '6869670' with unknown to-way.\n",
      "Warning: No way found for reference '465195712' in relation '6869832'\n",
      "Warning: No way found for reference '465195712' in relation '6869832'\n",
      "Warning: Ignoring restriction relation '6869832' with unknown from-way.\n",
      "Warning: Ignoring restriction relation '6869832' with unknown to-way.\n",
      "Warning: No way found for reference '453713155' in relation '6869833'\n",
      "Warning: No way found for reference '453713155' in relation '6869833'\n",
      "Warning: Ignoring restriction relation '6869833' with unknown from-way.\n",
      "Warning: Ignoring restriction relation '6869833' with unknown to-way.\n",
      "Warning: No way found for reference '184778988' in relation '6869834'\n",
      "Warning: No way found for reference '184778988' in relation '6869834'\n",
      "Warning: Ignoring restriction relation '6869834' with unknown from-way.\n",
      "Warning: Ignoring restriction relation '6869834' with unknown to-way.\n",
      "Warning: No way found for reference '453713156' in relation '6869835'\n",
      "Warning: No way found for reference '165321642' in relation '6869835'\n",
      "Warning: Ignoring restriction relation '6869835' with unknown from-way.\n",
      "Warning: Ignoring restriction relation '6869835' with unknown to-way.\n",
      "Warning: No way found for reference '143930069' in relation '6873732'\n",
      "Warning: No way found for reference '143930069' in relation '6873732'\n",
      "Warning: Ignoring restriction relation '6873732' with unknown from-way.\n",
      "Warning: Ignoring restriction relation '6873732' with unknown to-way.\n",
      "Warning: No way found for reference '465381657' in relation '6874171'\n",
      "Warning: No way found for reference '465381657' in relation '6874171'\n",
      "Warning: Ignoring restriction relation '6874171' with unknown from-way.\n",
      "Warning: Ignoring restriction relation '6874171' with unknown to-way.\n",
      "Warning: No way found for reference '465381658' in relation '6874172'\n",
      "Warning: No way found for reference '465381658' in relation '6874172'\n",
      "Warning: Ignoring restriction relation '6874172' with unknown from-way.\n",
      "Warning: Ignoring restriction relation '6874172' with unknown to-way.\n",
      "Warning: No way found for reference '465381271' in relation '6874732'\n",
      "Warning: No way found for reference '465381271' in relation '6874732'\n",
      "Warning: Ignoring restriction relation '6874732' with unknown from-way.\n",
      "Warning: Ignoring restriction relation '6874732' with unknown to-way.\n",
      "Warning: No way found for reference '465414952' in relation '6874763'\n",
      "Warning: No way found for reference '465414952' in relation '6874763'\n",
      "Warning: Ignoring restriction relation '6874763' with unknown from-way.\n",
      "Warning: Ignoring restriction relation '6874763' with unknown to-way.\n",
      "Warning: No way found for reference '465414953' in relation '6874764'\n",
      "Warning: No way found for reference '465414953' in relation '6874764'\n",
      "Warning: Ignoring restriction relation '6874764' with unknown from-way.\n",
      "Warning: Ignoring restriction relation '6874764' with unknown to-way.\n",
      "Warning: No way found for reference '465381659' in relation '6874776'\n",
      "Warning: No way found for reference '465381659' in relation '6874776'\n",
      "Warning: Ignoring restriction relation '6874776' with unknown from-way.\n",
      "Warning: Ignoring restriction relation '6874776' with unknown to-way.\n",
      "Warning: No way found for reference '414309669' in relation '6874781'\n",
      "Warning: No way found for reference '414309669' in relation '6874781'\n",
      "Warning: Ignoring restriction relation '6874781' with unknown from-way.\n",
      "Warning: Ignoring restriction relation '6874781' with unknown to-way.\n",
      "Warning: No way found for reference '465417749' in relation '6874782'\n",
      "Warning: No way found for reference '465417749' in relation '6874782'\n",
      "Warning: Ignoring restriction relation '6874782' with unknown from-way.\n",
      "Warning: Ignoring restriction relation '6874782' with unknown to-way.\n",
      "Warning: No way found for reference '13501066' in relation '6876877'\n",
      "Warning: No way found for reference '13501066' in relation '6876877'\n",
      "Warning: Ignoring restriction relation '6876877' with unknown from-way.\n",
      "Warning: Ignoring restriction relation '6876877' with unknown to-way.\n",
      "Warning: No way found for reference '165334551' in relation '6877047'\n",
      "Warning: No way found for reference '165334551' in relation '6877047'\n",
      "Warning: Ignoring restriction relation '6877047' with unknown from-way.\n",
      "Warning: Ignoring restriction relation '6877047' with unknown to-way.\n",
      "Warning: No way found for reference '165334553' in relation '6877048'\n",
      "Warning: No way found for reference '165334553' in relation '6877048'\n",
      "Warning: Ignoring restriction relation '6877048' with unknown from-way.\n",
      "Warning: Ignoring restriction relation '6877048' with unknown to-way.\n",
      "Warning: Ignoring restriction relation '6985945' with unknown type.\n",
      "Warning: Ignoring restriction relation '6985946' with unknown type.\n",
      "Warning: Ignoring restriction relation '6985947' with unknown type.\n",
      "Warning: Found sharp turn with radius 3.41 at the start of edge '-143781089#0'.\n",
      "Warning: Found sharp turn with radius 8.86 at the end of edge '-155211282#3'.\n",
      "Warning: Found sharp turn with radius 4.88 at the start of edge '-38778062#0'.\n",
      "Warning: Found sharp turn with radius 3.16 at the start of edge '-39761923#2'.\n",
      "Warning: Found sharp turn with radius 8.86 at the start of edge '155211282#3'.\n",
      "Warning: The traffic light '208932148' does not control any links; it will not be build.\n",
      "Warning: Could not build program '0' for traffic light '208932148'\n",
      "Warning: Minor green from edge '465184058#3' to edge '19908073#4' exceeds 19.44m/s. Maybe a left-turn lane is missing.\n",
      "Warning: Minor green from edge '-465184058#0' to edge '143310627#0' exceeds 19.44m/s. Maybe a left-turn lane is missing.\n",
      "Warning: Minor green from edge '393785998#1' to edge '19908079#3' exceeds 19.44m/s. Maybe a left-turn lane is missing.\n",
      "Warning: The traffic light '208932423' does not control any links; it will not be build.\n",
      "Warning: Could not build program '0' for traffic light '208932423'\n",
      "Warning: Minor green from edge '-465192480#0' to edge '393659689#0' exceeds 19.44m/s. Maybe a left-turn lane is missing.\n",
      "Warning: The traffic light '29794316' does not control any links; it will not be build.\n",
      "Warning: Could not build program '0' for traffic light '29794316'\n",
      "Warning: Minor green from edge '453998195' to edge '465184061#0' exceeds 19.44m/s. Maybe a left-turn lane is missing.\n",
      "Warning: Minor green from edge '-308901623#0' to edge '-475308562' exceeds 19.44m/s. Maybe a left-turn lane is missing.\n",
      "Warning: Minor green from edge '475308562' to edge '-453998195' exceeds 19.44m/s. Maybe a left-turn lane is missing.\n",
      "Warning: Minor green from edge '-465184061#0' to edge '308901623#0' exceeds 19.44m/s. Maybe a left-turn lane is missing.\n",
      "Warning: Minor green from edge '-453998195' to edge '451072945' exceeds 19.44m/s. Maybe a left-turn lane is missing.\n",
      "Warning: Speed of straight connection '143353397_1->143353396#0_1' reduced by 5.13 due to turning radius of 13.95 (length=2.00 angle=23.70)\n",
      "Success.\n"
     ]
    }
   ],
   "source": [
    "folder = 'Test/'\n",
    "osm_file = 'map.osm'\n",
    "destination_folder = 'sumo_nets/Real/' + folder\n",
    "destination_file = 'test.net.xml'\n",
    "config_file = 'sumo_nets/myConfig.sumocfg'\n",
    "\n",
    "create_real_net(osm_file, config_file, destination_folder, destination_file)"
   ]
  }
 ],
 "metadata": {
  "kernelspec": {
   "display_name": "Python 3",
   "language": "python",
   "name": "python3"
  },
  "language_info": {
   "codemirror_mode": {
    "name": "ipython",
    "version": 3
   },
   "file_extension": ".py",
   "mimetype": "text/x-python",
   "name": "python",
   "nbconvert_exporter": "python",
   "pygments_lexer": "ipython3",
   "version": "3.7.6"
  }
 },
 "nbformat": 4,
 "nbformat_minor": 4
}
